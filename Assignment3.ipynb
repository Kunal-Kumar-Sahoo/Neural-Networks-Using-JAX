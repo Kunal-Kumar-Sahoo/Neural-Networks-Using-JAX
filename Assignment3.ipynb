{
 "cells": [
  {
   "cell_type": "markdown",
   "source": [
    "# Implement two hidden layers neural network classifier from scratch in JAX\n",
    "   * Two hidden layers here means (input - hidden1 - hidden2 - output).\n",
    "   * You must not use flax, optax, or any other library for this task.\n",
    "   * Use MNIST dataset with 80:20 train:test split.\n",
    "   * Manually optimize the number of neurons in hidden layers.\n",
    "   * Use gradient descent from scratch to optimize your network. You should use the Pytree concept of JAX to do this elegantly.\n",
    "   * Plot loss v/s iterations curve with matplotlib.\n",
    "   * Evaluate the model on test data with various classification metrics and briefly discuss their implications"
   ],
   "metadata": {
    "collapsed": false,
    "pycharm": {
     "name": "#%% md\n"
    }
   }
  },
  {
   "cell_type": "code",
   "execution_count": 73,
   "outputs": [],
   "source": [
    "# imports\n",
    "import numpy as np\n",
    "import jax.numpy as jnp\n",
    "from jax.scipy.special import logsumexp\n",
    "import jax\n",
    "from jax import jit, vmap, value_and_grad\n",
    "\n",
    "from torchvision.datasets import MNIST\n",
    "from torch.utils.data import DataLoader\n",
    "\n",
    "%matplotlib inline\n",
    "import matplotlib.pyplot as plt"
   ],
   "metadata": {
    "collapsed": false,
    "pycharm": {
     "name": "#%%\n"
    }
   }
  },
  {
   "cell_type": "markdown",
   "source": [
    "## MLP training on MNIST"
   ],
   "metadata": {
    "collapsed": false
   }
  },
  {
   "cell_type": "code",
   "execution_count": 89,
   "outputs": [
    {
     "name": "stdout",
     "output_type": "stream",
     "text": [
      "[[(512, 784), (512,)], [(256, 512), (256,)], [(10, 256), (10,)]]\n"
     ]
    }
   ],
   "source": [
    "seed = 0\n",
    "mnist_img_size = (28, 28)\n",
    "\n",
    "def init_MLP(layer_widths, parent_key, scale=0.01):\n",
    "    params = []\n",
    "    keys = jax.random.split(parent_key, num=len(layer_widths)-1)\n",
    "    for in_width, out_width, key in zip(layer_widths[:-1], layer_widths[1:], keys):\n",
    "        weight_key, bias_key = jax.random.split(key)\n",
    "        params.append(\n",
    "            [\n",
    "                scale * jax.random.normal(weight_key, shape=(out_width, in_width)),\n",
    "                scale * jax.random.normal(bias_key, shape=(out_width,)),\n",
    "            ]\n",
    "        )\n",
    "    return params\n",
    "\n",
    "key = jax.random.PRNGKey(seed)\n",
    "MLP_params = init_MLP([28**2, 512, 256, 10], key)\n",
    "print(jax.tree_map(lambda x: x.shape, MLP_params))"
   ],
   "metadata": {
    "collapsed": false,
    "pycharm": {
     "name": "#%%\n"
    }
   }
  },
  {
   "cell_type": "code",
   "execution_count": 76,
   "outputs": [
    {
     "name": "stdout",
     "output_type": "stream",
     "text": [
      "(16, 784)\n",
      "(16, 10)\n"
     ]
    }
   ],
   "source": [
    "def MLP_predict(params, x):\n",
    "    hidden_layers = params[:-1]\n",
    "\n",
    "    activation = x\n",
    "    for w, b in hidden_layers:\n",
    "        activation = jax.nn.relu(jnp.dot(w, activation) + b)\n",
    "    w_last, b_last = params[-1]\n",
    "\n",
    "    logits = jnp.dot(w_last, activation) + b_last\n",
    "\n",
    "    # log(exp(o1)) - log(sum(exp(o1), exp(o2), ..., exp(o10)))\n",
    "    # log(exp(o1)/sum(...))\n",
    "    # kind of softmax activation function\n",
    "    return logits - logsumexp(logits)\n",
    "\n",
    "# TESTS\n",
    "\n",
    "# test single example\n",
    "# dummy_img_flat = np.random.randn(np.prod(mnist_img_size))\n",
    "# print(dummy_img_flat.shape)\n",
    "\n",
    "# Batch testing\n",
    "# prediction = MLP_predict(MLP_params, dummy_img_flat)\n",
    "# print(prediction.shape)\n",
    "\n",
    "batched_MLP_predict = vmap(MLP_predict, in_axes=(None, 0))\n",
    "\n",
    "# small test\n",
    "dummy_img_flat = np.random.randn(16, np.prod(mnist_img_size))\n",
    "print(dummy_img_flat.shape)\n",
    "\n",
    "prediction = batched_MLP_predict(MLP_params, dummy_img_flat)\n",
    "print(prediction.shape)"
   ],
   "metadata": {
    "collapsed": false,
    "pycharm": {
     "name": "#%%\n"
    }
   }
  },
  {
   "cell_type": "code",
   "execution_count": 77,
   "outputs": [
    {
     "name": "stdout",
     "output_type": "stream",
     "text": [
      "(128, 784) float32 (128,) int64\n"
     ]
    }
   ],
   "source": [
    "def custom_transform(x):\n",
    "    return np.ravel(np.array(x, dtype=np.float32))\n",
    "\n",
    "def custom_collate_fn(batch):\n",
    "    transposed_data = list(zip(*batch))\n",
    "    labels = np.array(transposed_data[1])\n",
    "    imgs = np.array(transposed_data[0])\n",
    "    return imgs, labels\n",
    "\n",
    "batch_size = 128\n",
    "\n",
    "train_dataset = MNIST(root='train_mnist', train=True, download=True, transform=custom_transform)\n",
    "#\n",
    "# print(type(train_dataset))\n",
    "# print(type(train_dataset[0]))\n",
    "\n",
    "test_dataset = MNIST(root='test_mnist', train=False, download=True, transform=custom_transform)\n",
    "\n",
    "train_loader = DataLoader(train_dataset, batch_size, shuffle=True, collate_fn=custom_collate_fn, drop_last=True)\n",
    "test_loader = DataLoader(test_dataset, batch_size, shuffle=False, collate_fn=custom_collate_fn, drop_last=True)\n",
    "\n",
    "# test\n",
    "batch_data = next(iter(train_loader))\n",
    "imgs = batch_data[0]\n",
    "lbls = batch_data[1]\n",
    "print(imgs.shape, imgs[0].dtype, lbls.shape, lbls[0].dtype)\n",
    "\n",
    "# optimizing the code: load the full dataset into the memory\n",
    "train_images = jnp.array(train_dataset.data).reshape(len(train_dataset), -1)\n",
    "# print(train_images.shape, type(train_images))\n",
    "train_labels = jnp.array(train_dataset.targets)\n",
    "# print(train_labels.shape, type(train_labels))\n",
    "\n",
    "test_images = jnp.array(test_dataset.data).reshape(len(test_dataset), -1)\n",
    "test_labels = jnp.array(test_dataset.targets)"
   ],
   "metadata": {
    "collapsed": false,
    "pycharm": {
     "name": "#%%\n"
    }
   }
  },
  {
   "cell_type": "code",
   "execution_count": 79,
   "outputs": [
    {
     "name": "stdout",
     "output_type": "stream",
     "text": [
      "0.23599091\n",
      "0.100969754\n",
      "0.06753465\n",
      "0.0423462\n",
      "0.054134\n",
      "0.046558425\n",
      "0.039340775\n",
      "0.033970423\n",
      "0.030881992\n",
      "0.02938798\n",
      "Epoch 0: training accuracy = 0.9129166603088379 testing accuracy = 0.9151999950408936\n",
      "0.03182727\n",
      "0.018186614\n",
      "0.033074494\n",
      "0.025276436\n",
      "0.030308291\n",
      "0.024417734\n",
      "0.028306056\n",
      "0.021294132\n",
      "0.025491342\n",
      "0.02633152\n",
      "Epoch 1: training accuracy = 0.934249997138977 testing accuracy = 0.9330999851226807\n",
      "0.02062715\n",
      "0.023997147\n",
      "0.028885826\n",
      "0.028886223\n",
      "0.025454521\n",
      "0.020345856\n",
      "0.01753876\n",
      "0.016771747\n",
      "0.021413742\n",
      "0.026423544\n",
      "Epoch 2: training accuracy = 0.9470000267028809 testing accuracy = 0.9447000026702881\n",
      "0.011180607\n",
      "0.011329056\n",
      "0.015772616\n",
      "0.018831668\n",
      "0.019619925\n",
      "0.022133356\n",
      "0.013968283\n",
      "0.015674116\n",
      "0.027574701\n",
      "0.015703341\n",
      "Epoch 3: training accuracy = 0.954716682434082 testing accuracy = 0.950499951839447\n",
      "0.018853394\n",
      "0.0122182695\n",
      "0.022891356\n",
      "0.009240834\n",
      "0.0060692127\n",
      "0.019840892\n",
      "0.01610983\n",
      "0.018976144\n",
      "0.021101698\n",
      "0.02148499\n",
      "Epoch 4: training accuracy = 0.9585333466529846 testing accuracy = 0.9541999697685242\n",
      "0.013937794\n",
      "0.015544555\n",
      "0.013029644\n",
      "0.013330325\n",
      "0.014931968\n",
      "0.015676882\n",
      "0.014715135\n",
      "0.014767336\n",
      "0.014641277\n",
      "0.012097932\n",
      "Epoch 5: training accuracy = 0.9650166630744934 testing accuracy = 0.958299994468689\n",
      "0.016379783\n",
      "0.013862507\n",
      "0.0115476865\n",
      "0.00676398\n",
      "0.009601993\n",
      "0.013706914\n",
      "0.020231117\n",
      "0.017485017\n",
      "0.004287274\n",
      "0.018569801\n",
      "Epoch 6: training accuracy = 0.9686499834060669 testing accuracy = 0.9630999565124512\n",
      "0.011904965\n",
      "0.007816746\n",
      "0.010212277\n",
      "0.0056648124\n",
      "0.011159442\n",
      "0.009163145\n",
      "0.0077304416\n",
      "0.013450423\n",
      "0.010217652\n",
      "0.011668433\n",
      "Epoch 7: training accuracy = 0.971500039100647 testing accuracy = 0.965499997138977\n",
      "0.011472993\n",
      "0.011863339\n",
      "0.009210186\n",
      "0.008230058\n",
      "0.010198595\n",
      "0.0050866767\n",
      "0.01024122\n",
      "0.018574797\n",
      "0.006316089\n",
      "0.011470944\n",
      "Epoch 8: training accuracy = 0.9752500057220459 testing accuracy = 0.9674999713897705\n",
      "0.009389251\n",
      "0.007646938\n",
      "0.010623202\n",
      "0.0031579442\n",
      "0.0152735775\n",
      "0.010053237\n",
      "0.011313773\n",
      "0.010505426\n",
      "0.008919448\n",
      "0.0075467913\n",
      "Epoch 9: training accuracy = 0.9766499996185303 testing accuracy = 0.9678999781608582\n"
     ]
    }
   ],
   "source": [
    "epochs = 10\n",
    "\n",
    "def loss_fn(params, imgs, gt_lbls):\n",
    "    predictions = batched_MLP_predict(params, imgs)\n",
    "    return -jnp.mean(predictions * gt_lbls)\n",
    "\n",
    "\n",
    "def accuracy(params, dataset_imgs, dataset_lbls):\n",
    "    pred_classes = jnp.argmax(batched_MLP_predict(params, dataset_imgs), axis=1)\n",
    "    return jnp.mean(dataset_lbls == pred_classes)\n",
    "\n",
    "@jit\n",
    "def update(params, imgs, gt_lbls, lr=0.01):\n",
    "    loss, grads = value_and_grad(loss_fn)(params, imgs, gt_lbls)\n",
    "    return loss, jax.tree_multimap(lambda p, g:p - lr*g, params, grads)\n",
    "\n",
    "# update_jit = jit(update)\n",
    "losses = {}\n",
    "# Create an MLP\n",
    "MLP_params = init_MLP([np.prod(mnist_img_size), 512, 256, len(MNIST.classes)], key)\n",
    "for epoch in range(epochs):\n",
    "    for cnt, (imgs, lbls) in enumerate(train_loader):\n",
    "        gt_labels = jax.nn.one_hot(lbls, len(MNIST.classes))\n",
    "        loss, MLP_params, = update(MLP_params, imgs, gt_labels)\n",
    "        if cnt % 50 == 0:\n",
    "            # print(gt_labels.shape)\n",
    "            print(loss)\n",
    "    print('Epoch {}: training accuracy = {} testing accuracy = {}'.format(epoch, accuracy(MLP_params, train_images, train_labels), accuracy(MLP_params, test_images, test_labels)))\n",
    "    losses[epoch] = loss"
   ],
   "metadata": {
    "collapsed": false,
    "pycharm": {
     "name": "#%%\n"
    }
   }
  },
  {
   "cell_type": "code",
   "execution_count": 81,
   "outputs": [
    {
     "name": "stdout",
     "output_type": "stream",
     "text": [
      "(28, 28)\n",
      "Prediction: 7\n"
     ]
    },
    {
     "data": {
      "text/plain": "<Figure size 432x288 with 1 Axes>",
      "image/png": "[encoded data removed]"
     },
     "metadata": {
      "needs_background": "light"
     },
     "output_type": "display_data"
    },
    {
     "name": "stdout",
     "output_type": "stream",
     "text": [
      "7\n"
     ]
    }
   ],
   "source": [
    "imgs, lbls = next(iter(test_loader))\n",
    "img = imgs[0].reshape(mnist_img_size)\n",
    "gt_lbl = lbls[0]\n",
    "print(img.shape)\n",
    "\n",
    "print('Prediction: {}'.format(jnp.argmax(MLP_predict(MLP_params, np.ravel(img)))))\n",
    "\n",
    "plt.imshow(img); plt.show()\n",
    "print(gt_lbl)"
   ],
   "metadata": {
    "collapsed": false,
    "pycharm": {
     "name": "#%%\n"
    }
   }
  },
  {
   "cell_type": "markdown",
   "source": [
    "## Visualizations"
   ],
   "metadata": {
    "collapsed": false
   }
  },
  {
   "cell_type": "code",
   "execution_count": 82,
   "outputs": [
    {
     "name": "stdout",
     "output_type": "stream",
     "text": [
      "(512, 784)\n",
      "(28, 28)\n"
     ]
    },
    {
     "data": {
      "text/plain": "<Figure size 432x288 with 1 Axes>",
      "image/png": "[encoded data removed]"
     },
     "metadata": {
      "needs_background": "light"
     },
     "output_type": "display_data"
    }
   ],
   "source": [
    "w = MLP_params[0][0]\n",
    "print(w.shape)\n",
    "\n",
    "w_single = w[0,: ].reshape(mnist_img_size)\n",
    "print(w_single.shape)\n",
    "\n",
    "plt.imshow(w_single); plt.show()"
   ],
   "metadata": {
    "collapsed": false,
    "pycharm": {
     "name": "#%%\n"
    }
   }
  },
  {
   "cell_type": "markdown",
   "source": [
    "### Analyzing dead neurons"
   ],
   "metadata": {
    "collapsed": false,
    "pycharm": {
     "name": "#%% md\n"
    }
   }
  },
  {
   "cell_type": "code",
   "execution_count": 83,
   "outputs": [
    {
     "name": "stdout",
     "output_type": "stream",
     "text": [
      "(128, 256)\n"
     ]
    },
    {
     "name": "stderr",
     "output_type": "stream",
     "text": [
      "/home/kunalkumarsahoo/anaconda3/envs/SRIP/lib/python3.10/site-packages/sklearn/manifold/_t_sne.py:780: FutureWarning: The default initialization in TSNE will change from 'random' to 'pca' in 1.2.\n",
      "  warnings.warn(\n",
      "/home/kunalkumarsahoo/anaconda3/envs/SRIP/lib/python3.10/site-packages/sklearn/manifold/_t_sne.py:790: FutureWarning: The default learning rate in TSNE will change from 200.0 to 'auto' in 1.2.\n",
      "  warnings.warn(\n"
     ]
    },
    {
     "data": {
      "text/plain": "<Figure size 432x288 with 1 Axes>",
      "image/png": "[encoded data removed]"
     },
     "metadata": {
      "needs_background": "light"
     },
     "output_type": "display_data"
    }
   ],
   "source": [
    "from sklearn.manifold import TSNE\n",
    "\n",
    "def fetch_activations(params, x):\n",
    "    hidden_layers = params[:-1]\n",
    "    activation = x\n",
    "    for w, b in hidden_layers:\n",
    "        activation = jax.nn.relu(jnp.dot(w, activation)+b)\n",
    "    return activation\n",
    "\n",
    "batched_fetch_activations = vmap(fetch_activations, in_axes=(None, 0))\n",
    "imgs, lbls = next(iter(test_loader))\n",
    "batch_activations = batched_fetch_activations(MLP_params, imgs)\n",
    "print(batch_activations.shape)\n",
    "\n",
    "t_sne_embeddings = TSNE(n_components=2, perplexity=30, method='barnes_hut').fit_transform(batch_activations)\n",
    "\n",
    "color_label = {0: 'red', 1: 'blue', 2: 'green', 3: 'orange', 4: 'yellow', 5: 'pink', 6: 'gray', 7: 'magenta', 8: 'cyan', 9: 'white'}\n",
    "for class_id in range(10):\n",
    "    plt.scatter(t_sne_embeddings[lbls == class_id, 0], t_sne_embeddings[lbls == class_id, 1], s=20, color=color_label[class_id])\n",
    "plt.show()"
   ],
   "metadata": {
    "collapsed": false,
    "pycharm": {
     "name": "#%%\n"
    }
   }
  },
  {
   "cell_type": "code",
   "execution_count": 90,
   "outputs": [
    {
     "name": "stdout",
     "output_type": "stream",
     "text": [
      "(128, 256)\n",
      "0\n",
      "7\n"
     ]
    }
   ],
   "source": [
    "def fetch_activations2(params, x):\n",
    "    hidden_layers = params[:-1]\n",
    "    collector = []\n",
    "    activation = x\n",
    "    for w, b in hidden_layers:\n",
    "        activation = jax.nn.relu(jnp.dot(w, activation)+b)\n",
    "        collector.append(activation)\n",
    "    return collector\n",
    "\n",
    "batched_fetch_activations2 = vmap(fetch_activations2, in_axes=(None, 0))\n",
    "imgs, lbls = next(iter(test_loader))\n",
    "\n",
    "MLP_params2 = init_MLP([np.prod(mnist_img_size), 512, 256, len(MNIST.classes)], key)\n",
    "\n",
    "batch_activations = batched_fetch_activations2(MLP_params2, imgs)\n",
    "print(batch_activations[1].shape)\n",
    "\n",
    "dead_neurons = [np.ones(act.shape[1:]) for act in batch_activations]\n",
    "\n",
    "for layers_id, activations in enumerate(batch_activations):\n",
    "    dead_neurons[layers_id] = np.logical_and(dead_neurons[layers_id], (activations == 0).all(axis=0))\n",
    "\n",
    "for layers in dead_neurons:\n",
    "    print(np.sum(layers))"
   ],
   "metadata": {
    "collapsed": false,
    "pycharm": {
     "name": "#%%\n"
    }
   }
  },
  {
   "cell_type": "code",
   "execution_count": 87,
   "outputs": [
    {
     "data": {
      "text/plain": "<Figure size 432x288 with 1 Axes>",
      "image/png": "[encoded data removed]"
     },
     "metadata": {
      "needs_background": "light"
     },
     "output_type": "display_data"
    }
   ],
   "source": [
    "x_values, y_values = [], []\n",
    "x_values = list(losses.keys())\n",
    "for key in x_values:\n",
    "    y_values.append(losses[key])\n",
    "\n",
    "plt.plot(x_values, y_values, 'r', label='losses')\n",
    "plt.title('Losses v/s Iterations')\n",
    "plt.xlabel('Epochs')\n",
    "plt.ylabel('Loss')\n",
    "plt.legend()\n",
    "plt.show()"
   ],
   "metadata": {
    "collapsed": false,
    "pycharm": {
     "name": "#%%\n"
    }
   }
  }
 ],
 "metadata": {
  "kernelspec": {
   "display_name": "Python 3",
   "language": "python",
   "name": "python3"
  },
  "language_info": {
   "codemirror_mode": {
    "name": "ipython",
    "version": 2
   },
   "file_extension": ".py",
   "mimetype": "text/x-python",
   "name": "python",
   "nbconvert_exporter": "python",
   "pygments_lexer": "ipython2",
   "version": "2.7.6"
  }
 },
 "nbformat": 4,
 "nbformat_minor": 0
}